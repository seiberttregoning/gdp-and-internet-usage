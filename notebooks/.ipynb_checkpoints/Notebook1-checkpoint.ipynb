{
 "cells": [
  {
   "cell_type": "code",
   "execution_count": 1,
   "metadata": {},
   "outputs": [],
   "source": [
    "import pandas as pd\n",
    "import numpy as np\n",
    "import matplotlib.pyplot as plt\n",
    "import seaborn as sns"
   ]
  },
  {
   "cell_type": "code",
   "execution_count": 2,
   "metadata": {},
   "outputs": [],
   "source": [
    "%matplotlib inline"
   ]
  },
  {
   "cell_type": "code",
   "execution_count": 28,
   "metadata": {},
   "outputs": [],
   "source": [
    "gdp_df = pd.read_csv('../data/gdp_percapita.csv')"
   ]
  },
  {
   "cell_type": "code",
   "execution_count": 29,
   "metadata": {},
   "outputs": [
    {
     "name": "stdout",
     "output_type": "stream",
     "text": [
      "  Country or Area  Year        Value  Value Footnotes\n",
      "0     Afghanistan  2018  1734.723214              NaN\n",
      "1     Afghanistan  2017  1758.465636              NaN\n",
      "2     Afghanistan  2016  1757.023490              NaN\n",
      "3     Afghanistan  2015  1766.593077              NaN\n",
      "4     Afghanistan  2014  1795.735834              NaN\n",
      "5     Afghanistan  2013  1807.762344              NaN\n"
     ]
    }
   ],
   "source": [
    "print(gdp_df.head(6))"
   ]
  },
  {
   "cell_type": "code",
   "execution_count": 13,
   "metadata": {},
   "outputs": [],
   "source": [
    "internet_df = pd.read_csv('../data/internet_use.csv')"
   ]
  },
  {
   "cell_type": "code",
   "execution_count": 14,
   "metadata": {
    "scrolled": true
   },
   "outputs": [
    {
     "name": "stdout",
     "output_type": "stream",
     "text": [
      "  Country or Area  Year     Value  Value Footnotes\n",
      "0     Afghanistan  2014  6.390000              NaN\n",
      "1     Afghanistan  2013  5.900000              NaN\n",
      "2     Afghanistan  2012  5.454545              NaN\n",
      "3     Afghanistan  2011  5.000000              NaN\n",
      "4     Afghanistan  2010  4.000000              NaN\n",
      "5     Afghanistan  2009  3.550000              NaN\n"
     ]
    }
   ],
   "source": [
    "print(internet_df.head(6))"
   ]
  },
  {
   "cell_type": "code",
   "execution_count": 27,
   "metadata": {},
   "outputs": [
    {
     "name": "stdout",
     "output_type": "stream",
     "text": [
      "(3, 4)\n"
     ]
    }
   ],
   "source": [
    "print(gdp_df.shape)"
   ]
  },
  {
   "cell_type": "markdown",
   "metadata": {},
   "source": [
    "gpd_df has 6731 rows and 4 columns"
   ]
  },
  {
   "cell_type": "code",
   "execution_count": 16,
   "metadata": {},
   "outputs": [
    {
     "name": "stdout",
     "output_type": "stream",
     "text": [
      "(4677, 4)\n"
     ]
    }
   ],
   "source": [
    "print(internet_df.shape)"
   ]
  },
  {
   "cell_type": "markdown",
   "metadata": {},
   "source": [
    "internet_df has 4677 rows and 4 columns"
   ]
  },
  {
   "cell_type": "code",
   "execution_count": 23,
   "metadata": {},
   "outputs": [
    {
     "name": "stdout",
     "output_type": "stream",
     "text": [
      "<class 'pandas.core.frame.DataFrame'>\n",
      "RangeIndex: 6731 entries, 0 to 6730\n",
      "Data columns (total 4 columns):\n",
      " #   Column           Non-Null Count  Dtype  \n",
      "---  ------           --------------  -----  \n",
      " 0   Country or Area  6731 non-null   object \n",
      " 1   Year             6731 non-null   object \n",
      " 2   Value            6729 non-null   float64\n",
      " 3   Value Footnotes  1 non-null      float64\n",
      "dtypes: float64(2), object(2)\n",
      "memory usage: 210.5+ KB\n",
      "None\n"
     ]
    }
   ],
   "source": [
    "print(gdp_df.info())"
   ]
  },
  {
   "cell_type": "code",
   "execution_count": 25,
   "metadata": {},
   "outputs": [
    {
     "name": "stdout",
     "output_type": "stream",
     "text": [
      "<class 'pandas.core.frame.DataFrame'>\n",
      "RangeIndex: 4677 entries, 0 to 4676\n",
      "Data columns (total 4 columns):\n",
      " #   Column           Non-Null Count  Dtype  \n",
      "---  ------           --------------  -----  \n",
      " 0   Country or Area  4676 non-null   object \n",
      " 1   Year             4676 non-null   object \n",
      " 2   Value            4495 non-null   float64\n",
      " 3   Value Footnotes  948 non-null    float64\n",
      "dtypes: float64(2), object(2)\n",
      "memory usage: 146.3+ KB\n",
      "None\n"
     ]
    }
   ],
   "source": [
    "print(internet_df.info())"
   ]
  },
  {
   "cell_type": "code",
   "execution_count": 30,
   "metadata": {},
   "outputs": [
    {
     "name": "stdout",
     "output_type": "stream",
     "text": [
      "  Country or Area  Year        Value\n",
      "0     Afghanistan  2018  1734.723214\n",
      "1     Afghanistan  2017  1758.465636\n",
      "2     Afghanistan  2016  1757.023490\n",
      "3     Afghanistan  2015  1766.593077\n",
      "4     Afghanistan  2014  1795.735834\n"
     ]
    }
   ],
   "source": [
    "del gdp_df['Value Footnotes']\n",
    "print(gdp_df.head())"
   ]
  },
  {
   "cell_type": "code",
   "execution_count": 31,
   "metadata": {},
   "outputs": [
    {
     "name": "stdout",
     "output_type": "stream",
     "text": [
      "  Country or Area  Year        Value\n",
      "0     Afghanistan  2018  1734.723214\n",
      "1     Afghanistan  2017  1758.465636\n",
      "2     Afghanistan  2016  1757.023490\n",
      "3     Afghanistan  2015  1766.593077\n",
      "4     Afghanistan  2014  1795.735834\n"
     ]
    }
   ],
   "source": [
    "del internet_df['Value Footnotes']\n",
    "print(gdp_df.head())"
   ]
  },
  {
   "cell_type": "code",
   "execution_count": 32,
   "metadata": {},
   "outputs": [
    {
     "name": "stdout",
     "output_type": "stream",
     "text": [
      "       Country  Year  GDP_Per_Capita\n",
      "0  Afghanistan  2018     1734.723214\n",
      "1  Afghanistan  2017     1758.465636\n",
      "2  Afghanistan  2016     1757.023490\n",
      "3  Afghanistan  2015     1766.593077\n",
      "4  Afghanistan  2014     1795.735834\n"
     ]
    }
   ],
   "source": [
    "gdp_df.columns = ['Country', 'Year', 'GDP_Per_Capita']\n",
    "print(gdp_df.head())"
   ]
  },
  {
   "cell_type": "code",
   "execution_count": 33,
   "metadata": {},
   "outputs": [
    {
     "name": "stdout",
     "output_type": "stream",
     "text": [
      "       Country  Year  Internet_Users_Pct\n",
      "0  Afghanistan  2014            6.390000\n",
      "1  Afghanistan  2013            5.900000\n",
      "2  Afghanistan  2012            5.454545\n",
      "3  Afghanistan  2011            5.000000\n",
      "4  Afghanistan  2010            4.000000\n"
     ]
    }
   ],
   "source": [
    "internet_df.columns = ['Country', 'Year', 'Internet_Users_Pct']\n",
    "print(internet_df.head())"
   ]
  },
  {
   "cell_type": "code",
   "execution_count": 53,
   "metadata": {},
   "outputs": [
    {
     "name": "stdout",
     "output_type": "stream",
     "text": [
      "       Country  Year  GDP_Per_Capita\n",
      "6724  Zimbabwe  1994     2768.309953\n",
      "6725  Zimbabwe  1993     2572.870395\n",
      "6726  Zimbabwe  1992     2591.007534\n",
      "6727  Zimbabwe  1991     2906.272849\n",
      "6728  Zimbabwe  1990     2819.549467\n"
     ]
    }
   ],
   "source": [
    "gdp_no_foot = gdp_df.drop([6729, 6730])\n",
    "print(gdp_no_foot.tail())"
   ]
  },
  {
   "cell_type": "code",
   "execution_count": 70,
   "metadata": {},
   "outputs": [],
   "source": [
    "internet_no_foot = internet_df.drop(internet_df[internet_df.index >= 4495].index)"
   ]
  },
  {
   "cell_type": "code",
   "execution_count": 71,
   "metadata": {
    "scrolled": true
   },
   "outputs": [
    {
     "name": "stdout",
     "output_type": "stream",
     "text": [
      "       Country  Year  Internet_Users_Pct\n",
      "4490  Zimbabwe  1997            0.033080\n",
      "4491  Zimbabwe  1996            0.016790\n",
      "4492  Zimbabwe  1995            0.007684\n",
      "4493  Zimbabwe  1994            0.001739\n",
      "4494  Zimbabwe  1990            0.000000\n"
     ]
    }
   ],
   "source": [
    "print(internet_no_foot.tail())"
   ]
  },
  {
   "cell_type": "code",
   "execution_count": 72,
   "metadata": {},
   "outputs": [
    {
     "name": "stdout",
     "output_type": "stream",
     "text": [
      "       Country  Year  GDP_Per_Capita  Internet_Users_Pct\n",
      "0  Afghanistan  2018     1734.723214                 NaN\n",
      "1  Afghanistan  2017     1758.465636                 NaN\n",
      "2  Afghanistan  2016     1757.023490                 NaN\n",
      "3  Afghanistan  2015     1766.593077                 NaN\n",
      "4  Afghanistan  2014     1795.735834                6.39\n",
      "                    Country  Year  GDP_Per_Capita  Internet_Users_Pct\n",
      "7700  Virgin Islands (U.S.)  1997             NaN            6.948369\n",
      "7701  Virgin Islands (U.S.)  1996             NaN            4.647186\n",
      "7702  Virgin Islands (U.S.)  1995             NaN            2.801958\n",
      "7703  Virgin Islands (U.S.)  1994             NaN            0.940645\n",
      "7704  Virgin Islands (U.S.)  1990             NaN            0.000000\n"
     ]
    }
   ],
   "source": [
    "gdp_and_internet_use = pd.merge(gdp_no_foot, internet_no_foot, how='outer', on = ['Country', 'Year'])\n",
    "print(gdp_and_internet_use.head())\n",
    "print(gdp_and_internet_use.tail())"
   ]
  },
  {
   "cell_type": "code",
   "execution_count": 73,
   "metadata": {},
   "outputs": [
    {
     "name": "stdout",
     "output_type": "stream",
     "text": [
      "(7705, 4)\n"
     ]
    }
   ],
   "source": [
    "print(gdp_and_internet_use.shape)"
   ]
  },
  {
   "cell_type": "markdown",
   "metadata": {},
   "source": [
    "I chose to do an outer join to keep all rows, no rows were dropped."
   ]
  },
  {
   "cell_type": "code",
   "execution_count": 92,
   "metadata": {
    "scrolled": true
   },
   "outputs": [
    {
     "name": "stdout",
     "output_type": "stream",
     "text": [
      "<class 'pandas.core.frame.DataFrame'>\n",
      "Int64Index: 7705 entries, 0 to 7704\n",
      "Data columns (total 4 columns):\n",
      " #   Column              Non-Null Count  Dtype  \n",
      "---  ------              --------------  -----  \n",
      " 0   Country             7705 non-null   object \n",
      " 1   Year                7705 non-null   object \n",
      " 2   GDP_Per_Capita      6729 non-null   float64\n",
      " 3   Internet_Users_Pct  4495 non-null   float64\n",
      "dtypes: float64(2), object(2)\n",
      "memory usage: 301.0+ KB\n",
      "None\n"
     ]
    }
   ],
   "source": [
    "print(gdp_and_internet_use.info())"
   ]
  },
  {
   "cell_type": "code",
   "execution_count": 95,
   "metadata": {
    "scrolled": true
   },
   "outputs": [
    {
     "name": "stdout",
     "output_type": "stream",
     "text": [
      "                 Country  Year  GDP_Per_Capita  Internet_Users_Pct\n",
      "4            Afghanistan  2014     1795.735834            6.390000\n",
      "9            Afghanistan  2009     1502.354073            3.550000\n",
      "14           Afghanistan  2004     1025.208245            0.105809\n",
      "21               Albania  2014    10700.993216           60.100000\n",
      "26               Albania  2009     9525.377979           41.200000\n",
      "31               Albania  2004     7001.054082            2.420388\n",
      "50               Algeria  2014    13557.769757           18.090000\n",
      "55               Algeria  2009    12697.690780           11.230000\n",
      "60               Algeria  2004    11845.170512            4.634475\n",
      "79                Angola  2014     6813.052106           21.260000\n",
      "84                Angola  2009     6292.534856            6.000000\n",
      "89                Angola  2004     4604.657044            0.464815\n",
      "108  Antigua and Barbuda  2014    20440.540555           64.000000\n",
      "113  Antigua and Barbuda  2009    22568.626530           42.000000\n",
      "118  Antigua and Barbuda  2004    21161.123532           24.266544\n"
     ]
    }
   ],
   "source": [
    "subset = gdp_and_internet_use[gdp_and_internet_use['Year'].isin(['2004', '2009', '2014'])]\n",
    "print(subset.head(15))"
   ]
  },
  {
   "cell_type": "code",
   "execution_count": 96,
   "metadata": {},
   "outputs": [
    {
     "name": "stdout",
     "output_type": "stream",
     "text": [
      "                 Country  Year  GDP_Per_Capita  Internet_Users_Pct\n",
      "14           Afghanistan  2004     1025.208245            0.105809\n",
      "31               Albania  2004     7001.054082            2.420388\n",
      "60               Algeria  2004    11845.170512            4.634475\n",
      "89                Angola  2004     4604.657044            0.464815\n",
      "118  Antigua and Barbuda  2004    21161.123532           24.266544\n"
     ]
    }
   ],
   "source": [
    "df_2004 = subset[subset['Year'] == '2004']\n",
    "print(df_2004.head())"
   ]
  },
  {
   "cell_type": "code",
   "execution_count": 97,
   "metadata": {},
   "outputs": [],
   "source": [
    "df_2009 = subset[subset['Year'] == '2009']\n",
    "df_2014 = subset[subset['Year'] == '2014']"
   ]
  },
  {
   "cell_type": "code",
   "execution_count": 98,
   "metadata": {
    "scrolled": true
   },
   "outputs": [
    {
     "name": "stdout",
     "output_type": "stream",
     "text": [
      "83.89\n"
     ]
    }
   ],
   "source": [
    "print(max(df_2004['Internet_Users_Pct']))"
   ]
  },
  {
   "cell_type": "code",
   "execution_count": 103,
   "metadata": {},
   "outputs": [
    {
     "name": "stdout",
     "output_type": "stream",
     "text": [
      "     Country  Year  GDP_Per_Capita  Internet_Users_Pct\n",
      "5852  Sweden  2004    40177.850408               83.89\n",
      "\n",
      "      Country  Year  GDP_Per_Capita  Internet_Users_Pct\n",
      "2586  Iceland  2009    41505.084834                93.0\n",
      "\n",
      "      Country  Year  GDP_Per_Capita  Internet_Users_Pct\n",
      "2581  Iceland  2014    42774.888849               98.16\n"
     ]
    }
   ],
   "source": [
    "print(df_2004[df_2004['Internet_Users_Pct'] == max(df_2004['Internet_Users_Pct'])])\n",
    "print()\n",
    "print(df_2009[df_2009['Internet_Users_Pct'] == max(df_2009['Internet_Users_Pct'])])\n",
    "print()\n",
    "print(df_2014[df_2014['Internet_Users_Pct'] == max(df_2014['Internet_Users_Pct'])])"
   ]
  },
  {
   "cell_type": "markdown",
   "metadata": {},
   "source": [
    "2004 Highest Internet Percentage = Sweden, 83.89 percent\n",
    "2009 Highest Internet Percentage = Iceland, 93.0 percent\n",
    "2014 Highest Internet Percentage = Iceland, 98.16 percent"
   ]
  },
  {
   "cell_type": "code",
   "execution_count": 104,
   "metadata": {
    "scrolled": true
   },
   "outputs": [
    {
     "name": "stdout",
     "output_type": "stream",
     "text": [
      "                          Country  Year  GDP_Per_Capita  Internet_Users_Pct\n",
      "6949  Dem. People's Rep. of Korea  2004             NaN                 0.0\n",
      "\n",
      "                          Country  Year  GDP_Per_Capita  Internet_Users_Pct\n",
      "6944  Dem. People's Rep. of Korea  2009             NaN                 0.0\n",
      "\n",
      "                          Country  Year  GDP_Per_Capita  Internet_Users_Pct\n",
      "6940  Dem. People's Rep. of Korea  2014             NaN                 0.0\n"
     ]
    }
   ],
   "source": [
    "print(df_2004[df_2004['Internet_Users_Pct'] == min(df_2004['Internet_Users_Pct'])])\n",
    "print()\n",
    "print(df_2009[df_2009['Internet_Users_Pct'] == min(df_2009['Internet_Users_Pct'])])\n",
    "print()\n",
    "print(df_2014[df_2014['Internet_Users_Pct'] == min(df_2014['Internet_Users_Pct'])])"
   ]
  },
  {
   "cell_type": "markdown",
   "metadata": {},
   "source": [
    "For 2004, 2009, and 2014 the Democratic People's Republic of Korea had the lowest internet users percentage of 0.0."
   ]
  },
  {
   "cell_type": "code",
   "execution_count": 107,
   "metadata": {
    "scrolled": true
   },
   "outputs": [
    {
     "name": "stdout",
     "output_type": "stream",
     "text": [
      "               Country  Year  GDP_Per_Capita  Internet_Users_Pct\n",
      "3639  Macao SAR, China  2014   130439.106674                 NaN\n"
     ]
    }
   ],
   "source": [
    "print(df_2014[df_2014['GDP_Per_Capita'] == max(df_2014['GDP_Per_Capita'])])"
   ]
  },
  {
   "cell_type": "markdown",
   "metadata": {},
   "source": [
    "2014 Highest GDP per capita = Macao, 130,439.106674"
   ]
  },
  {
   "cell_type": "code",
   "execution_count": 108,
   "metadata": {},
   "outputs": [
    {
     "name": "stdout",
     "output_type": "stream",
     "text": [
      "                       Country  Year  GDP_Per_Capita  Internet_Users_Pct\n",
      "1014  Central African Republic  2014      672.681648                 NaN\n"
     ]
    }
   ],
   "source": [
    "print(df_2014[df_2014['GDP_Per_Capita'] == min(df_2014['GDP_Per_Capita'])])"
   ]
  },
  {
   "cell_type": "markdown",
   "metadata": {},
   "source": [
    "2014 Lowest GDP per capita = Central African Republic, 672.681648"
   ]
  },
  {
   "cell_type": "code",
   "execution_count": 120,
   "metadata": {
    "scrolled": true
   },
   "outputs": [
    {
     "data": {
      "text/plain": [
       "Text(0.5, 1.0, '2004 Data')"
      ]
     },
     "execution_count": 120,
     "metadata": {},
     "output_type": "execute_result"
    },
    {
     "data": {
      "image/png": "[encoded data removed]",
      "text/plain": [
       "<Figure size 432x288 with 1 Axes>"
      ]
     },
     "metadata": {
      "needs_background": "light"
     },
     "output_type": "display_data"
    }
   ],
   "source": [
    "plt.scatter(df_2004['GDP_Per_Capita'], df_2004['Internet_Users_Pct'])\n",
    "plt.xlabel('GDP per capita')\n",
    "plt.ylabel('Percentage of internet users')\n",
    "plt.title('2004 Data')"
   ]
  },
  {
   "cell_type": "code",
   "execution_count": 119,
   "metadata": {},
   "outputs": [
    {
     "data": {
      "text/plain": [
       "Text(0.5, 1.0, '2009 Data')"
      ]
     },
     "execution_count": 119,
     "metadata": {},
     "output_type": "execute_result"
    },
    {
     "data": {
      "image/png": "[encoded data removed]",
      "text/plain": [
       "<Figure size 432x288 with 1 Axes>"
      ]
     },
     "metadata": {
      "needs_background": "light"
     },
     "output_type": "display_data"
    }
   ],
   "source": [
    "plt.scatter(df_2009['GDP_Per_Capita'], df_2009['Internet_Users_Pct'])\n",
    "plt.xlabel('GDP per capita')\n",
    "plt.ylabel('Percentage of internet users')\n",
    "plt.title('2009 Data')"
   ]
  },
  {
   "cell_type": "code",
   "execution_count": 121,
   "metadata": {
    "scrolled": false
   },
   "outputs": [
    {
     "data": {
      "text/plain": [
       "Text(0.5, 1.0, '2014 Data')"
      ]
     },
     "execution_count": 121,
     "metadata": {},
     "output_type": "execute_result"
    },
    {
     "data": {
      "image/png": "[encoded data removed]",
      "text/plain": [
       "<Figure size 432x288 with 1 Axes>"
      ]
     },
     "metadata": {
      "needs_background": "light"
     },
     "output_type": "display_data"
    }
   ],
   "source": [
    "plt.scatter(df_2014['GDP_Per_Capita'], df_2014['Internet_Users_Pct'])\n",
    "plt.xlabel('GDP per capita')\n",
    "plt.ylabel('Percentage of internet users')\n",
    "plt.title('2014 Data')"
   ]
  },
  {
   "cell_type": "markdown",
   "metadata": {},
   "source": [
    "Between the decade between 2004 and 2014 the correlation between GDP and internet use became tighter. Also, over time, distrubtion of internet users went up. It seems from the scatter plots, but is tough to tell that GDP per capita went up as well over time."
   ]
  }
 ],
 "metadata": {
  "kernelspec": {
   "display_name": "Python 3",
   "language": "python",
   "name": "python3"
  },
  "language_info": {
   "codemirror_mode": {
    "name": "ipython",
    "version": 3
   },
   "file_extension": ".py",
   "mimetype": "text/x-python",
   "name": "python",
   "nbconvert_exporter": "python",
   "pygments_lexer": "ipython3",
   "version": "3.7.6"
  }
 },
 "nbformat": 4,
 "nbformat_minor": 4
}
