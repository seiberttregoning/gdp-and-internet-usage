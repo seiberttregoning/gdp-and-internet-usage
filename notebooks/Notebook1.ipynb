{
 "cells": [
  {
   "cell_type": "code",
   "execution_count": 1,
   "metadata": {},
   "outputs": [],
   "source": [
    "import pandas as pd\n",
    "import numpy as np\n",
    "import matplotlib.pyplot as plt\n",
    "import seaborn as sns"
   ]
  },
  {
   "cell_type": "code",
   "execution_count": 2,
   "metadata": {},
   "outputs": [],
   "source": [
    "%matplotlib inline"
   ]
  },
  {
   "cell_type": "code",
   "execution_count": 3,
   "metadata": {},
   "outputs": [],
   "source": [
    "gdp_df = pd.read_csv('../data/gdp_percapita.csv')"
   ]
  },
  {
   "cell_type": "code",
   "execution_count": 4,
   "metadata": {},
   "outputs": [
    {
     "name": "stdout",
     "output_type": "stream",
     "text": [
      "  Country or Area  Year        Value  Value Footnotes\n",
      "0     Afghanistan  2018  1734.723214              NaN\n",
      "1     Afghanistan  2017  1758.465636              NaN\n",
      "2     Afghanistan  2016  1757.023490              NaN\n",
      "3     Afghanistan  2015  1766.593077              NaN\n",
      "4     Afghanistan  2014  1795.735834              NaN\n",
      "5     Afghanistan  2013  1807.762344              NaN\n"
     ]
    }
   ],
   "source": [
    "print(gdp_df.head(6))"
   ]
  },
  {
   "cell_type": "code",
   "execution_count": 5,
   "metadata": {},
   "outputs": [],
   "source": [
    "internet_df = pd.read_csv('../data/internet_use.csv')"
   ]
  },
  {
   "cell_type": "code",
   "execution_count": 6,
   "metadata": {
    "scrolled": true
   },
   "outputs": [
    {
     "name": "stdout",
     "output_type": "stream",
     "text": [
      "  Country or Area  Year     Value  Value Footnotes\n",
      "0     Afghanistan  2014  6.390000              NaN\n",
      "1     Afghanistan  2013  5.900000              NaN\n",
      "2     Afghanistan  2012  5.454545              NaN\n",
      "3     Afghanistan  2011  5.000000              NaN\n",
      "4     Afghanistan  2010  4.000000              NaN\n",
      "5     Afghanistan  2009  3.550000              NaN\n"
     ]
    }
   ],
   "source": [
    "print(internet_df.head(6))"
   ]
  },
  {
   "cell_type": "code",
   "execution_count": 7,
   "metadata": {},
   "outputs": [
    {
     "name": "stdout",
     "output_type": "stream",
     "text": [
      "(6731, 4)\n"
     ]
    }
   ],
   "source": [
    "print(gdp_df.shape)"
   ]
  },
  {
   "cell_type": "markdown",
   "metadata": {},
   "source": [
    "gpd_df has 6731 rows and 4 columns"
   ]
  },
  {
   "cell_type": "code",
   "execution_count": 8,
   "metadata": {},
   "outputs": [
    {
     "name": "stdout",
     "output_type": "stream",
     "text": [
      "(4677, 4)\n"
     ]
    }
   ],
   "source": [
    "print(internet_df.shape)"
   ]
  },
  {
   "cell_type": "markdown",
   "metadata": {},
   "source": [
    "internet_df has 4677 rows and 4 columns"
   ]
  },
  {
   "cell_type": "code",
   "execution_count": 9,
   "metadata": {},
   "outputs": [
    {
     "name": "stdout",
     "output_type": "stream",
     "text": [
      "<class 'pandas.core.frame.DataFrame'>\n",
      "RangeIndex: 6731 entries, 0 to 6730\n",
      "Data columns (total 4 columns):\n",
      " #   Column           Non-Null Count  Dtype  \n",
      "---  ------           --------------  -----  \n",
      " 0   Country or Area  6731 non-null   object \n",
      " 1   Year             6731 non-null   object \n",
      " 2   Value            6729 non-null   float64\n",
      " 3   Value Footnotes  1 non-null      float64\n",
      "dtypes: float64(2), object(2)\n",
      "memory usage: 210.5+ KB\n",
      "None\n"
     ]
    }
   ],
   "source": [
    "print(gdp_df.info())"
   ]
  },
  {
   "cell_type": "code",
   "execution_count": 10,
   "metadata": {},
   "outputs": [
    {
     "name": "stdout",
     "output_type": "stream",
     "text": [
      "<class 'pandas.core.frame.DataFrame'>\n",
      "RangeIndex: 4677 entries, 0 to 4676\n",
      "Data columns (total 4 columns):\n",
      " #   Column           Non-Null Count  Dtype  \n",
      "---  ------           --------------  -----  \n",
      " 0   Country or Area  4676 non-null   object \n",
      " 1   Year             4676 non-null   object \n",
      " 2   Value            4495 non-null   float64\n",
      " 3   Value Footnotes  948 non-null    float64\n",
      "dtypes: float64(2), object(2)\n",
      "memory usage: 146.3+ KB\n",
      "None\n"
     ]
    }
   ],
   "source": [
    "print(internet_df.info())"
   ]
  },
  {
   "cell_type": "code",
   "execution_count": 11,
   "metadata": {},
   "outputs": [
    {
     "name": "stdout",
     "output_type": "stream",
     "text": [
      "  Country or Area  Year        Value\n",
      "0     Afghanistan  2018  1734.723214\n",
      "1     Afghanistan  2017  1758.465636\n",
      "2     Afghanistan  2016  1757.023490\n",
      "3     Afghanistan  2015  1766.593077\n",
      "4     Afghanistan  2014  1795.735834\n"
     ]
    }
   ],
   "source": [
    "del gdp_df['Value Footnotes']\n",
    "print(gdp_df.head())"
   ]
  },
  {
   "cell_type": "code",
   "execution_count": 12,
   "metadata": {},
   "outputs": [
    {
     "name": "stdout",
     "output_type": "stream",
     "text": [
      "  Country or Area  Year        Value\n",
      "0     Afghanistan  2018  1734.723214\n",
      "1     Afghanistan  2017  1758.465636\n",
      "2     Afghanistan  2016  1757.023490\n",
      "3     Afghanistan  2015  1766.593077\n",
      "4     Afghanistan  2014  1795.735834\n"
     ]
    }
   ],
   "source": [
    "del internet_df['Value Footnotes']\n",
    "print(gdp_df.head())"
   ]
  },
  {
   "cell_type": "code",
   "execution_count": 13,
   "metadata": {},
   "outputs": [
    {
     "name": "stdout",
     "output_type": "stream",
     "text": [
      "       Country  Year  GDP_Per_Capita\n",
      "0  Afghanistan  2018     1734.723214\n",
      "1  Afghanistan  2017     1758.465636\n",
      "2  Afghanistan  2016     1757.023490\n",
      "3  Afghanistan  2015     1766.593077\n",
      "4  Afghanistan  2014     1795.735834\n"
     ]
    }
   ],
   "source": [
    "gdp_df.columns = ['Country', 'Year', 'GDP_Per_Capita']\n",
    "print(gdp_df.head())"
   ]
  },
  {
   "cell_type": "code",
   "execution_count": 14,
   "metadata": {},
   "outputs": [
    {
     "name": "stdout",
     "output_type": "stream",
     "text": [
      "       Country  Year  Internet_Users_Pct\n",
      "0  Afghanistan  2014            6.390000\n",
      "1  Afghanistan  2013            5.900000\n",
      "2  Afghanistan  2012            5.454545\n",
      "3  Afghanistan  2011            5.000000\n",
      "4  Afghanistan  2010            4.000000\n"
     ]
    }
   ],
   "source": [
    "internet_df.columns = ['Country', 'Year', 'Internet_Users_Pct']\n",
    "print(internet_df.head())"
   ]
  },
  {
   "cell_type": "code",
   "execution_count": 15,
   "metadata": {},
   "outputs": [
    {
     "name": "stdout",
     "output_type": "stream",
     "text": [
      "       Country  Year  GDP_Per_Capita\n",
      "6724  Zimbabwe  1994     2768.309953\n",
      "6725  Zimbabwe  1993     2572.870395\n",
      "6726  Zimbabwe  1992     2591.007534\n",
      "6727  Zimbabwe  1991     2906.272849\n",
      "6728  Zimbabwe  1990     2819.549467\n"
     ]
    }
   ],
   "source": [
    "gdp_no_foot = gdp_df.drop([6729, 6730])\n",
    "print(gdp_no_foot.tail())"
   ]
  },
  {
   "cell_type": "code",
   "execution_count": 16,
   "metadata": {},
   "outputs": [],
   "source": [
    "internet_no_foot = internet_df.drop(internet_df[internet_df.index >= 4495].index)"
   ]
  },
  {
   "cell_type": "code",
   "execution_count": 17,
   "metadata": {
    "scrolled": true
   },
   "outputs": [
    {
     "name": "stdout",
     "output_type": "stream",
     "text": [
      "       Country  Year  Internet_Users_Pct\n",
      "4490  Zimbabwe  1997            0.033080\n",
      "4491  Zimbabwe  1996            0.016790\n",
      "4492  Zimbabwe  1995            0.007684\n",
      "4493  Zimbabwe  1994            0.001739\n",
      "4494  Zimbabwe  1990            0.000000\n"
     ]
    }
   ],
   "source": [
    "print(internet_no_foot.tail())"
   ]
  },
  {
   "cell_type": "code",
   "execution_count": 18,
   "metadata": {},
   "outputs": [
    {
     "name": "stdout",
     "output_type": "stream",
     "text": [
      "       Country  Year  GDP_Per_Capita  Internet_Users_Pct\n",
      "0  Afghanistan  2018     1734.723214                 NaN\n",
      "1  Afghanistan  2017     1758.465636                 NaN\n",
      "2  Afghanistan  2016     1757.023490                 NaN\n",
      "3  Afghanistan  2015     1766.593077                 NaN\n",
      "4  Afghanistan  2014     1795.735834                6.39\n",
      "                    Country  Year  GDP_Per_Capita  Internet_Users_Pct\n",
      "7700  Virgin Islands (U.S.)  1997             NaN            6.948369\n",
      "7701  Virgin Islands (U.S.)  1996             NaN            4.647186\n",
      "7702  Virgin Islands (U.S.)  1995             NaN            2.801958\n",
      "7703  Virgin Islands (U.S.)  1994             NaN            0.940645\n",
      "7704  Virgin Islands (U.S.)  1990             NaN            0.000000\n"
     ]
    }
   ],
   "source": [
    "gdp_and_internet_use = pd.merge(gdp_no_foot, internet_no_foot, how='outer', on = ['Country', 'Year'])\n",
    "print(gdp_and_internet_use.head())\n",
    "print(gdp_and_internet_use.tail())"
   ]
  },
  {
   "cell_type": "code",
   "execution_count": 19,
   "metadata": {},
   "outputs": [
    {
     "name": "stdout",
     "output_type": "stream",
     "text": [
      "(7705, 4)\n"
     ]
    }
   ],
   "source": [
    "print(gdp_and_internet_use.shape)"
   ]
  },
  {
   "cell_type": "markdown",
   "metadata": {},
   "source": [
    "I chose to do an outer join to keep all rows, no rows were dropped."
   ]
  },
  {
   "cell_type": "code",
   "execution_count": 20,
   "metadata": {
    "scrolled": true
   },
   "outputs": [
    {
     "name": "stdout",
     "output_type": "stream",
     "text": [
      "<class 'pandas.core.frame.DataFrame'>\n",
      "Int64Index: 7705 entries, 0 to 7704\n",
      "Data columns (total 4 columns):\n",
      " #   Column              Non-Null Count  Dtype  \n",
      "---  ------              --------------  -----  \n",
      " 0   Country             7705 non-null   object \n",
      " 1   Year                7705 non-null   object \n",
      " 2   GDP_Per_Capita      6729 non-null   float64\n",
      " 3   Internet_Users_Pct  4495 non-null   float64\n",
      "dtypes: float64(2), object(2)\n",
      "memory usage: 301.0+ KB\n",
      "None\n"
     ]
    }
   ],
   "source": [
    "print(gdp_and_internet_use.info())"
   ]
  },
  {
   "cell_type": "code",
   "execution_count": 21,
   "metadata": {
    "scrolled": true
   },
   "outputs": [
    {
     "name": "stdout",
     "output_type": "stream",
     "text": [
      "                 Country  Year  GDP_Per_Capita  Internet_Users_Pct\n",
      "4            Afghanistan  2014     1795.735834            6.390000\n",
      "9            Afghanistan  2009     1502.354073            3.550000\n",
      "14           Afghanistan  2004     1025.208245            0.105809\n",
      "21               Albania  2014    10700.993216           60.100000\n",
      "26               Albania  2009     9525.377979           41.200000\n",
      "31               Albania  2004     7001.054082            2.420388\n",
      "50               Algeria  2014    13557.769757           18.090000\n",
      "55               Algeria  2009    12697.690780           11.230000\n",
      "60               Algeria  2004    11845.170512            4.634475\n",
      "79                Angola  2014     6813.052106           21.260000\n",
      "84                Angola  2009     6292.534856            6.000000\n",
      "89                Angola  2004     4604.657044            0.464815\n",
      "108  Antigua and Barbuda  2014    20440.540555           64.000000\n",
      "113  Antigua and Barbuda  2009    22568.626530           42.000000\n",
      "118  Antigua and Barbuda  2004    21161.123532           24.266544\n"
     ]
    }
   ],
   "source": [
    "subset = gdp_and_internet_use[gdp_and_internet_use['Year'].isin(['2004', '2009', '2014'])]\n",
    "print(subset.head(15))"
   ]
  },
  {
   "cell_type": "code",
   "execution_count": 22,
   "metadata": {},
   "outputs": [
    {
     "name": "stdout",
     "output_type": "stream",
     "text": [
      "                 Country  Year  GDP_Per_Capita  Internet_Users_Pct\n",
      "14           Afghanistan  2004     1025.208245            0.105809\n",
      "31               Albania  2004     7001.054082            2.420388\n",
      "60               Algeria  2004    11845.170512            4.634475\n",
      "89                Angola  2004     4604.657044            0.464815\n",
      "118  Antigua and Barbuda  2004    21161.123532           24.266544\n"
     ]
    }
   ],
   "source": [
    "df_2004 = subset[subset['Year'] == '2004']\n",
    "print(df_2004.head())"
   ]
  },
  {
   "cell_type": "code",
   "execution_count": 23,
   "metadata": {},
   "outputs": [],
   "source": [
    "df_2009 = subset[subset['Year'] == '2009']\n",
    "df_2014 = subset[subset['Year'] == '2014']"
   ]
  },
  {
   "cell_type": "code",
   "execution_count": 24,
   "metadata": {
    "scrolled": true
   },
   "outputs": [
    {
     "name": "stdout",
     "output_type": "stream",
     "text": [
      "83.89\n"
     ]
    }
   ],
   "source": [
    "print(max(df_2004['Internet_Users_Pct']))"
   ]
  },
  {
   "cell_type": "code",
   "execution_count": 25,
   "metadata": {},
   "outputs": [
    {
     "name": "stdout",
     "output_type": "stream",
     "text": [
      "     Country  Year  GDP_Per_Capita  Internet_Users_Pct\n",
      "5852  Sweden  2004    40177.850408               83.89\n",
      "\n",
      "      Country  Year  GDP_Per_Capita  Internet_Users_Pct\n",
      "2586  Iceland  2009    41505.084834                93.0\n",
      "\n",
      "      Country  Year  GDP_Per_Capita  Internet_Users_Pct\n",
      "2581  Iceland  2014    42774.888849               98.16\n"
     ]
    }
   ],
   "source": [
    "print(df_2004[df_2004['Internet_Users_Pct'] == max(df_2004['Internet_Users_Pct'])])\n",
    "print()\n",
    "print(df_2009[df_2009['Internet_Users_Pct'] == max(df_2009['Internet_Users_Pct'])])\n",
    "print()\n",
    "print(df_2014[df_2014['Internet_Users_Pct'] == max(df_2014['Internet_Users_Pct'])])"
   ]
  },
  {
   "cell_type": "markdown",
   "metadata": {},
   "source": [
    "2004 Highest Internet Percentage = Sweden, 83.89 percent\n",
    "2009 Highest Internet Percentage = Iceland, 93.0 percent\n",
    "2014 Highest Internet Percentage = Iceland, 98.16 percent"
   ]
  },
  {
   "cell_type": "code",
   "execution_count": 26,
   "metadata": {
    "scrolled": true
   },
   "outputs": [
    {
     "name": "stdout",
     "output_type": "stream",
     "text": [
      "                          Country  Year  GDP_Per_Capita  Internet_Users_Pct\n",
      "6949  Dem. People's Rep. of Korea  2004             NaN                 0.0\n",
      "\n",
      "                          Country  Year  GDP_Per_Capita  Internet_Users_Pct\n",
      "6944  Dem. People's Rep. of Korea  2009             NaN                 0.0\n",
      "\n",
      "                          Country  Year  GDP_Per_Capita  Internet_Users_Pct\n",
      "6940  Dem. People's Rep. of Korea  2014             NaN                 0.0\n"
     ]
    }
   ],
   "source": [
    "print(df_2004[df_2004['Internet_Users_Pct'] == min(df_2004['Internet_Users_Pct'])])\n",
    "print()\n",
    "print(df_2009[df_2009['Internet_Users_Pct'] == min(df_2009['Internet_Users_Pct'])])\n",
    "print()\n",
    "print(df_2014[df_2014['Internet_Users_Pct'] == min(df_2014['Internet_Users_Pct'])])"
   ]
  },
  {
   "cell_type": "markdown",
   "metadata": {},
   "source": [
    "For 2004, 2009, and 2014 the Democratic People's Republic of Korea had the lowest internet users percentage of 0.0."
   ]
  },
  {
   "cell_type": "code",
   "execution_count": 27,
   "metadata": {
    "scrolled": true
   },
   "outputs": [
    {
     "name": "stdout",
     "output_type": "stream",
     "text": [
      "               Country  Year  GDP_Per_Capita  Internet_Users_Pct\n",
      "3639  Macao SAR, China  2014   130439.106674                 NaN\n"
     ]
    }
   ],
   "source": [
    "print(df_2014[df_2014['GDP_Per_Capita'] == max(df_2014['GDP_Per_Capita'])])"
   ]
  },
  {
   "cell_type": "markdown",
   "metadata": {},
   "source": [
    "2014 Highest GDP per capita = Macao, 130,439.106674"
   ]
  },
  {
   "cell_type": "code",
   "execution_count": 28,
   "metadata": {},
   "outputs": [
    {
     "name": "stdout",
     "output_type": "stream",
     "text": [
      "                       Country  Year  GDP_Per_Capita  Internet_Users_Pct\n",
      "1014  Central African Republic  2014      672.681648                 NaN\n"
     ]
    }
   ],
   "source": [
    "print(df_2014[df_2014['GDP_Per_Capita'] == min(df_2014['GDP_Per_Capita'])])"
   ]
  },
  {
   "cell_type": "markdown",
   "metadata": {},
   "source": [
    "2014 Lowest GDP per capita = Central African Republic, 672.681648"
   ]
  },
  {
   "cell_type": "code",
   "execution_count": 29,
   "metadata": {
    "scrolled": true
   },
   "outputs": [
    {
     "data": {
      "text/plain": [
       "Text(0.5, 1.0, '2004 Data')"
      ]
     },
     "execution_count": 29,
     "metadata": {},
     "output_type": "execute_result"
    },
    {
     "data": {
      "image/png": "[encoded data removed]",
      "text/plain": [
       "<Figure size 432x288 with 1 Axes>"
      ]
     },
     "metadata": {
      "needs_background": "light"
     },
     "output_type": "display_data"
    }
   ],
   "source": [
    "plt.scatter(df_2004['GDP_Per_Capita'], df_2004['Internet_Users_Pct'])\n",
    "plt.xlabel('GDP per capita')\n",
    "plt.ylabel('Percentage of internet users')\n",
    "plt.title('2004 Data')"
   ]
  },
  {
   "cell_type": "code",
   "execution_count": 30,
   "metadata": {},
   "outputs": [
    {
     "data": {
      "text/plain": [
       "Text(0.5, 1.0, '2009 Data')"
      ]
     },
     "execution_count": 30,
     "metadata": {},
     "output_type": "execute_result"
    },
    {
     "data": {
      "image/png": "[encoded data removed]",
      "text/plain": [
       "<Figure size 432x288 with 1 Axes>"
      ]
     },
     "metadata": {
      "needs_background": "light"
     },
     "output_type": "display_data"
    }
   ],
   "source": [
    "plt.scatter(df_2009['GDP_Per_Capita'], df_2009['Internet_Users_Pct'])\n",
    "plt.xlabel('GDP per capita')\n",
    "plt.ylabel('Percentage of internet users')\n",
    "plt.title('2009 Data')"
   ]
  },
  {
   "cell_type": "code",
   "execution_count": 31,
   "metadata": {
    "scrolled": false
   },
   "outputs": [
    {
     "data": {
      "text/plain": [
       "Text(0.5, 1.0, '2014 Data')"
      ]
     },
     "execution_count": 31,
     "metadata": {},
     "output_type": "execute_result"
    },
    {
     "data": {
      "image/png": "[encoded data removed]",
      "text/plain": [
       "<Figure size 432x288 with 1 Axes>"
      ]
     },
     "metadata": {
      "needs_background": "light"
     },
     "output_type": "display_data"
    }
   ],
   "source": [
    "plt.scatter(df_2014['GDP_Per_Capita'], df_2014['Internet_Users_Pct'])\n",
    "plt.xlabel('GDP per capita')\n",
    "plt.ylabel('Percentage of internet users')\n",
    "plt.title('2014 Data')"
   ]
  },
  {
   "cell_type": "markdown",
   "metadata": {},
   "source": [
    "Between the decade between 2004 and 2014 the correlation between GDP and internet use became tighter. Also, over time, distrubtion of internet users went up. It seems from the scatter plots, but is tough to tell that GDP per capita went up as well over time."
   ]
  },
  {
   "cell_type": "code",
   "execution_count": 35,
   "metadata": {
    "scrolled": false
   },
   "outputs": [
    {
     "data": {
      "text/plain": [
       "Text(0.5, 1.0, '2014 GDP Histogram')"
      ]
     },
     "execution_count": 35,
     "metadata": {},
     "output_type": "execute_result"
    },
    {
     "data": {
      "image/png": "[encoded data removed]",
      "text/plain": [
       "<Figure size 432x288 with 1 Axes>"
      ]
     },
     "metadata": {
      "needs_background": "light"
     },
     "output_type": "display_data"
    }
   ],
   "source": [
    "plt.hist(df_2014['GDP_Per_Capita'])\n",
    "plt.xlabel('GDP Per Capita')\n",
    "plt.ylabel('Count of Countries')\n",
    "plt.title('2014 GDP Histogram')"
   ]
  },
  {
   "cell_type": "markdown",
   "metadata": {},
   "source": [
    "2014 GDP per capita data are unimodal"
   ]
  },
  {
   "cell_type": "code",
   "execution_count": 36,
   "metadata": {
    "scrolled": true
   },
   "outputs": [
    {
     "data": {
      "text/plain": [
       "Text(0.5, 1.0, '2014 Internet Use Histogram')"
      ]
     },
     "execution_count": 36,
     "metadata": {},
     "output_type": "execute_result"
    },
    {
     "data": {
      "image/png": "[encoded data removed]",
      "text/plain": [
       "<Figure size 432x288 with 1 Axes>"
      ]
     },
     "metadata": {
      "needs_background": "light"
     },
     "output_type": "display_data"
    }
   ],
   "source": [
    "plt.hist(df_2014['Internet_Users_Pct'])\n",
    "plt.xlabel('Percent of Internet Users')\n",
    "plt.ylabel('Count of Countries')\n",
    "plt.title('2014 Internet Use Histogram')"
   ]
  },
  {
   "cell_type": "markdown",
   "metadata": {},
   "source": [
    "2014 GDP per capita data are _not_ unimodal"
   ]
  },
  {
   "cell_type": "code",
   "execution_count": 43,
   "metadata": {},
   "outputs": [
    {
     "name": "stdout",
     "output_type": "stream",
     "text": [
      "      Country  Year  GDP_Per_Capita  Internet_Users_Pct\n",
      "2581  Iceland  2014    42774.888849               98.16\n",
      "6772  Bermuda  2014             NaN               96.80\n",
      "4530   Norway  2014    63328.259526               96.30\n",
      "1404  Denmark  2014    45057.083449               95.99\n",
      "6732  Andorra  2014             NaN               95.90\n"
     ]
    }
   ],
   "source": [
    "print(df_2014.nlargest(5, 'Internet_Users_Pct'))"
   ]
  },
  {
   "cell_type": "markdown",
   "metadata": {},
   "source": [
    "Top 5 Internet Users Percentage in 2014 = Iceland, Bermuda, Norway, Denmark, Andorra"
   ]
  },
  {
   "cell_type": "code",
   "execution_count": 45,
   "metadata": {},
   "outputs": [
    {
     "name": "stdout",
     "output_type": "stream",
     "text": [
      "      Country  Year  GDP_Per_Capita  Internet_Users_Pct\n",
      "542   Bermuda  2009    57151.919132           83.250000\n",
      "547   Bermuda  2004    55452.638880           60.990867\n",
      "1404  Denmark  2014    45057.083449           95.990000\n",
      "1409  Denmark  2009    43382.615688           86.840000\n",
      "1414  Denmark  2004    43670.446201           80.930000\n",
      "2581  Iceland  2014    42774.888849           98.160000\n",
      "2586  Iceland  2009    41505.084834           93.000000\n",
      "2591  Iceland  2004    38893.378798           83.880000\n",
      "4530   Norway  2014    63328.259526           96.300000\n",
      "4535   Norway  2009    62617.153609           92.080000\n",
      "4540   Norway  2004    61612.275634           77.690000\n",
      "6732  Andorra  2014             NaN           95.900000\n",
      "6737  Andorra  2009             NaN           78.530000\n",
      "6742  Andorra  2004             NaN           26.837954\n",
      "6772  Bermuda  2014             NaN           96.800000\n",
      "\n",
      "(15, 4)\n"
     ]
    }
   ],
   "source": [
    "top_5_internet = subset[subset['Country'].isin(df_2014.nlargest(5, 'Internet_Users_Pct')['Country'])]\n",
    "print(top_5_internet)\n",
    "print()\n",
    "print(top_5_internet.shape)"
   ]
  },
  {
   "cell_type": "code",
   "execution_count": 50,
   "metadata": {},
   "outputs": [
    {
     "name": "stdout",
     "output_type": "stream",
     "text": [
      "      Country  Year  GDP_Per_Capita  Internet_Users_Pct\n",
      "6742  Andorra  2004             NaN           26.837954\n",
      "6737  Andorra  2009             NaN           78.530000\n",
      "6732  Andorra  2014             NaN           95.900000\n",
      "547   Bermuda  2004    55452.638880           60.990867\n",
      "542   Bermuda  2009    57151.919132           83.250000\n",
      "6772  Bermuda  2014             NaN           96.800000\n",
      "1414  Denmark  2004    43670.446201           80.930000\n",
      "1409  Denmark  2009    43382.615688           86.840000\n",
      "1404  Denmark  2014    45057.083449           95.990000\n",
      "2591  Iceland  2004    38893.378798           83.880000\n",
      "2586  Iceland  2009    41505.084834           93.000000\n",
      "2581  Iceland  2014    42774.888849           98.160000\n",
      "4540   Norway  2004    61612.275634           77.690000\n",
      "4535   Norway  2009    62617.153609           92.080000\n",
      "4530   Norway  2014    63328.259526           96.300000\n"
     ]
    }
   ],
   "source": [
    "top_5_internet = top_5_internet.sort_values(by=['Country', 'Year'])\n",
    "print(top_5_internet)"
   ]
  },
  {
   "cell_type": "code",
   "execution_count": 51,
   "metadata": {
    "scrolled": true
   },
   "outputs": [
    {
     "data": {
      "text/plain": [
       "<seaborn.axisgrid.FacetGrid at 0x170d4667f48>"
      ]
     },
     "execution_count": 51,
     "metadata": {},
     "output_type": "execute_result"
    },
    {
     "data": {
      "image/png": "[encoded data removed]",
      "text/plain": [
       "<Figure size 1080x216 with 5 Axes>"
      ]
     },
     "metadata": {
      "needs_background": "light"
     },
     "output_type": "display_data"
    }
   ],
   "source": [
    "g = sns.FacetGrid(top_5_internet, col='Country')\n",
    "g.map(plt.plot, 'Year', 'Internet_Users_Pct')"
   ]
  },
  {
   "cell_type": "markdown",
   "metadata": {},
   "source": [
    "Andorra had (by far) the greatest growth in internet use between 2004 and 2014. No obvious plotting issue with Bermuda."
   ]
  },
  {
   "cell_type": "code",
   "execution_count": 52,
   "metadata": {
    "scrolled": true
   },
   "outputs": [
    {
     "name": "stdout",
     "output_type": "stream",
     "text": [
      "                          Country  Year  GDP_Per_Capita  Internet_Users_Pct\n",
      "794                       Burundi  2014      768.469837            1.380000\n",
      "799                       Burundi  2009      721.063140            0.900000\n",
      "804                       Burundi  2004      708.833720            0.349060\n",
      "1722                      Eritrea  2009     1950.533339            0.540000\n",
      "1727                      Eritrea  2004     2317.349879                 NaN\n",
      "6044                  Timor-Leste  2014     6466.737732            1.140000\n",
      "6049                  Timor-Leste  2009     9275.529371            0.185252\n",
      "6054                  Timor-Leste  2004     4898.575839                 NaN\n",
      "6940  Dem. People's Rep. of Korea  2014             NaN            0.000000\n",
      "6944  Dem. People's Rep. of Korea  2009             NaN            0.000000\n",
      "6949  Dem. People's Rep. of Korea  2004             NaN            0.000000\n",
      "6999                      Eritrea  2014             NaN            0.990000\n",
      "7521                      Somalia  2014             NaN            1.630000\n",
      "7525                      Somalia  2009             NaN            1.160611\n",
      "7530                      Somalia  2004             NaN            1.053455\n",
      "\n",
      "(15, 4)\n"
     ]
    }
   ],
   "source": [
    "bottom_5_internet = subset[subset['Country'].isin(df_2014.nsmallest(5, 'Internet_Users_Pct')['Country'])]\n",
    "print(bottom_5_internet)\n",
    "print()\n",
    "print(bottom_5_internet.shape)"
   ]
  },
  {
   "cell_type": "code",
   "execution_count": 53,
   "metadata": {
    "scrolled": true
   },
   "outputs": [
    {
     "name": "stdout",
     "output_type": "stream",
     "text": [
      "                          Country  Year  GDP_Per_Capita  Internet_Users_Pct\n",
      "804                       Burundi  2004      708.833720            0.349060\n",
      "799                       Burundi  2009      721.063140            0.900000\n",
      "794                       Burundi  2014      768.469837            1.380000\n",
      "6949  Dem. People's Rep. of Korea  2004             NaN            0.000000\n",
      "6944  Dem. People's Rep. of Korea  2009             NaN            0.000000\n",
      "6940  Dem. People's Rep. of Korea  2014             NaN            0.000000\n",
      "1727                      Eritrea  2004     2317.349879                 NaN\n",
      "1722                      Eritrea  2009     1950.533339            0.540000\n",
      "6999                      Eritrea  2014             NaN            0.990000\n",
      "7530                      Somalia  2004             NaN            1.053455\n",
      "7525                      Somalia  2009             NaN            1.160611\n",
      "7521                      Somalia  2014             NaN            1.630000\n",
      "6054                  Timor-Leste  2004     4898.575839                 NaN\n",
      "6049                  Timor-Leste  2009     9275.529371            0.185252\n",
      "6044                  Timor-Leste  2014     6466.737732            1.140000\n"
     ]
    }
   ],
   "source": [
    "bottom_5_internet = bottom_5_internet.sort_values(by=['Country', 'Year'])\n",
    "print(bottom_5_internet)"
   ]
  },
  {
   "cell_type": "code",
   "execution_count": 54,
   "metadata": {
    "scrolled": true
   },
   "outputs": [
    {
     "data": {
      "text/plain": [
       "<seaborn.axisgrid.FacetGrid at 0x170d257c508>"
      ]
     },
     "execution_count": 54,
     "metadata": {},
     "output_type": "execute_result"
    },
    {
     "data": {
      "image/png": "[encoded data removed]",
      "text/plain": [
       "<Figure size 1080x216 with 5 Axes>"
      ]
     },
     "metadata": {
      "needs_background": "light"
     },
     "output_type": "display_data"
    }
   ],
   "source": [
    "g = sns.FacetGrid(bottom_5_internet, col='Country')\n",
    "g.map(plt.plot, 'Year', 'Internet_Users_Pct')"
   ]
  },
  {
   "cell_type": "markdown",
   "metadata": {},
   "source": [
    "Dem. People's Rep. of Korea has the consistently lowest percentage of internet users."
   ]
  },
  {
   "cell_type": "code",
   "execution_count": 73,
   "metadata": {
    "scrolled": true
   },
   "outputs": [
    {
     "name": "stdout",
     "output_type": "stream",
     "text": [
      "                    Country  Year  GDP_Per_Capita  Internet_Users_Pct\n",
      "7668               Viet Nam  2009             NaN           26.550000\n",
      "7673               Viet Nam  2004             NaN            7.642409\n",
      "7683  Virgin Islands (U.S.)  2014             NaN           50.070000\n",
      "7688  Virgin Islands (U.S.)  2009             NaN           27.396510\n",
      "7693  Virgin Islands (U.S.)  2004             NaN           27.377009\n"
     ]
    }
   ],
   "source": [
    "# Repeating analysis of bottom 5 countries after dropping NaN rows.\n",
    "\n",
    "subset_dropna = subset[subset['Internet_Users_Pct'].notna()]\n",
    "print(subset_dropna.tail())"
   ]
  },
  {
   "cell_type": "code",
   "execution_count": 74,
   "metadata": {},
   "outputs": [],
   "source": [
    "df_2004_dropna = subset_dropna[subset_dropna['Year'] == '2004']\n",
    "df_2009_dropna = subset_dropna[subset_dropna['Year'] == '2009']\n",
    "df_2014_dropna = subset_dropna[subset_dropna['Year'] == '2014']"
   ]
  },
  {
   "cell_type": "code",
   "execution_count": 76,
   "metadata": {},
   "outputs": [],
   "source": [
    "# Dropping Timor-Leste and Eritrea b/c it has no value for 2004\n",
    "\n",
    "df_2014_dropna= df_2014_dropna[df_2014_dropna['Country'] != 'Timor-Leste']\n",
    "df_2014_dropna= df_2014_dropna[df_2014_dropna['Country'] != 'Eritrea']"
   ]
  },
  {
   "cell_type": "code",
   "execution_count": 77,
   "metadata": {
    "scrolled": true
   },
   "outputs": [
    {
     "name": "stdout",
     "output_type": "stream",
     "text": [
      "                          Country  Year  GDP_Per_Capita  Internet_Users_Pct\n",
      "804                       Burundi  2004      708.833720            0.349060\n",
      "799                       Burundi  2009      721.063140            0.900000\n",
      "794                       Burundi  2014      768.469837            1.380000\n",
      "6949  Dem. People's Rep. of Korea  2004             NaN            0.000000\n",
      "6944  Dem. People's Rep. of Korea  2009             NaN            0.000000\n",
      "6940  Dem. People's Rep. of Korea  2014             NaN            0.000000\n",
      "2302                       Guinea  2004     1583.864869            0.508819\n",
      "2297                       Guinea  2009     1626.288463            0.940000\n",
      "2292                       Guinea  2014     1836.532318            1.720000\n",
      "4424                        Niger  2004      757.751262            0.189934\n",
      "4419                        Niger  2009      778.982257            0.760000\n",
      "4414                        Niger  2014      900.136918            1.950000\n",
      "7530                      Somalia  2004             NaN            1.053455\n",
      "7525                      Somalia  2009             NaN            1.160611\n",
      "7521                      Somalia  2014             NaN            1.630000\n",
      "\n",
      "(15, 4)\n"
     ]
    }
   ],
   "source": [
    "bottom_5_internet2 = subset_dropna[subset_dropna['Country'].isin(df_2014_dropna.nsmallest(5, 'Internet_Users_Pct')['Country'])]\n",
    "bottom_5_internet2 = bottom_5_internet2.sort_values(by=['Country', 'Year'])\n",
    "\n",
    "print(bottom_5_internet2)\n",
    "print()\n",
    "print(bottom_5_internet2.shape)"
   ]
  },
  {
   "cell_type": "code",
   "execution_count": 78,
   "metadata": {},
   "outputs": [
    {
     "data": {
      "text/plain": [
       "<seaborn.axisgrid.FacetGrid at 0x170d5cd8e48>"
      ]
     },
     "execution_count": 78,
     "metadata": {},
     "output_type": "execute_result"
    },
    {
     "data": {
      "image/png": "[encoded data removed]",
      "text/plain": [
       "<Figure size 1080x216 with 5 Axes>"
      ]
     },
     "metadata": {
      "needs_background": "light"
     },
     "output_type": "display_data"
    }
   ],
   "source": [
    "g = sns.FacetGrid(bottom_5_internet2, col='Country')\n",
    "g.map(plt.plot, 'Year', 'Internet_Users_Pct')"
   ]
  },
  {
   "cell_type": "code",
   "execution_count": 56,
   "metadata": {
    "scrolled": false
   },
   "outputs": [
    {
     "name": "stdout",
     "output_type": "stream",
     "text": [
      "               Country  Year  GDP_Per_Capita  Internet_Users_Pct\n",
      "717             Brunei  2004    83963.238066                 NaN\n",
      "712             Brunei  2009    79485.001581                 NaN\n",
      "707             Brunei  2014    76448.593329                 NaN\n",
      "3620        Luxembourg  2004    87209.819367           65.880000\n",
      "3615        Luxembourg  2009    89098.734264           87.310000\n",
      "3610        Luxembourg  2014    92349.186429           94.670000\n",
      "3649  Macao SAR, China  2004    60791.976853                 NaN\n",
      "3644  Macao SAR, China  2009    79955.986107                 NaN\n",
      "3639  Macao SAR, China  2014   130439.106674                 NaN\n",
      "5013             Qatar  2004   117271.427067           20.701648\n",
      "5008             Qatar  2009   112525.718267           53.100000\n",
      "5003             Qatar  2014   116693.507701           91.490000\n",
      "5326         Singapore  2004    59732.958543           62.000000\n",
      "5321         Singapore  2009    64934.799310           69.000000\n",
      "5316         Singapore  2014    81965.361071           82.000000\n",
      "\n",
      "(15, 4)\n"
     ]
    }
   ],
   "source": [
    "top_5_gdp = subset[subset['Country'].isin(df_2014.nlargest(5, 'GDP_Per_Capita')['Country'])]\n",
    "top_5_gdp = top_5_gdp.sort_values(by=['Country', 'Year'])\n",
    "\n",
    "print(top_5_gdp)\n",
    "print()\n",
    "print(top_5_gdp.shape)"
   ]
  },
  {
   "cell_type": "code",
   "execution_count": 57,
   "metadata": {
    "scrolled": true
   },
   "outputs": [
    {
     "data": {
      "text/plain": [
       "<seaborn.axisgrid.FacetGrid at 0x170d4633e88>"
      ]
     },
     "execution_count": 57,
     "metadata": {},
     "output_type": "execute_result"
    },
    {
     "data": {
      "image/png": "[encoded data removed]",
      "text/plain": [
       "<Figure size 1080x216 with 5 Axes>"
      ]
     },
     "metadata": {
      "needs_background": "light"
     },
     "output_type": "display_data"
    }
   ],
   "source": [
    "g = sns.FacetGrid(top_5_gdp, col='Country')\n",
    "g.map(plt.plot, 'Year', 'GDP_Per_Capita')"
   ]
  },
  {
   "cell_type": "code",
   "execution_count": 58,
   "metadata": {
    "scrolled": true
   },
   "outputs": [
    {
     "name": "stdout",
     "output_type": "stream",
     "text": [
      "                       Country  Year  GDP_Per_Capita  Internet_Users_Pct\n",
      "804                    Burundi  2004      708.833720            0.349060\n",
      "799                    Burundi  2009      721.063140            0.900000\n",
      "794                    Burundi  2014      768.469837            1.380000\n",
      "1024  Central African Republic  2004      848.689032                 NaN\n",
      "1019  Central African Republic  2009      949.551325                 NaN\n",
      "1014  Central African Republic  2014      672.681648                 NaN\n",
      "1385           Dem. Rep. Congo  2004      577.483297                 NaN\n",
      "1380           Dem. Rep. Congo  2009      636.875743                 NaN\n",
      "1375           Dem. Rep. Congo  2014      784.872656                 NaN\n",
      "3707                    Malawi  2004      862.392437            0.347505\n",
      "3702                    Malawi  2009     1037.598513            1.070000\n",
      "3697                    Malawi  2014     1142.530804            5.830000\n",
      "4424                     Niger  2004      757.751262            0.189934\n",
      "4419                     Niger  2009      778.982257            0.760000\n",
      "4414                     Niger  2014      900.136918            1.950000\n",
      "\n",
      "(15, 4)\n"
     ]
    }
   ],
   "source": [
    "bottom_5_gdp = subset[subset['Country'].isin(df_2014.nsmallest(5, 'GDP_Per_Capita')['Country'])]\n",
    "bottom_5_gdp = bottom_5_gdp.sort_values(by=['Country', 'Year'])\n",
    "\n",
    "print(bottom_5_gdp)\n",
    "print()\n",
    "print(bottom_5_gdp.shape)"
   ]
  },
  {
   "cell_type": "code",
   "execution_count": 59,
   "metadata": {
    "scrolled": true
   },
   "outputs": [
    {
     "data": {
      "text/plain": [
       "<seaborn.axisgrid.FacetGrid at 0x170d4a63c88>"
      ]
     },
     "execution_count": 59,
     "metadata": {},
     "output_type": "execute_result"
    },
    {
     "data": {
      "image/png": "[encoded data removed]",
      "text/plain": [
       "<Figure size 1080x216 with 5 Axes>"
      ]
     },
     "metadata": {
      "needs_background": "light"
     },
     "output_type": "display_data"
    }
   ],
   "source": [
    "g = sns.FacetGrid(bottom_5_gdp, col='Country')\n",
    "g.map(plt.plot, 'Year', 'GDP_Per_Capita')"
   ]
  },
  {
   "cell_type": "markdown",
   "metadata": {},
   "source": [
    "I was surprised to see the dramatic drop in GDP per capita in the Central African Republic between 2009 and 2014. Research found that a smoldering civil war which began in 2004 escalated in 2011. The civil war in the Central African Republic continued through 2015."
   ]
  }
 ],
 "metadata": {
  "kernelspec": {
   "display_name": "Python 3",
   "language": "python",
   "name": "python3"
  },
  "language_info": {
   "codemirror_mode": {
    "name": "ipython",
    "version": 3
   },
   "file_extension": ".py",
   "mimetype": "text/x-python",
   "name": "python",
   "nbconvert_exporter": "python",
   "pygments_lexer": "ipython3",
   "version": "3.7.6"
  }
 },
 "nbformat": 4,
 "nbformat_minor": 4
}
